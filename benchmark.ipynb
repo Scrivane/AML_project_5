{
 "cells": [
  {
   "cell_type": "code",
   "execution_count": null,
   "id": "9f974394",
   "metadata": {},
   "outputs": [
    {
     "name": "stdout",
     "output_type": "stream",
     "text": [
      "Size: 512x512, Time: 0.0349 sec\n",
      "Size: 1024x1024, Time: 0.0039 sec\n",
      "Size: 2048x2048, Time: 0.0270 sec\n",
      "Size: 4096x4096, Time: 0.2317 sec\n"
     ]
    }
   ],
   "source": [
    "import torch\n",
    "import time\n",
    "\n",
    "device = 'cuda' if torch.cuda.is_available() else 'cpu'\n",
    "print(device)\n",
    "\n",
    "# Matrix multiplication\n",
    "sizes = [512, 1024, 2048, 4096]\n",
    "for size in sizes:\n",
    "    a = torch.randn(size, size, device=device)\n",
    "    b = torch.randn(size, size, device=device)\n",
    "\n",
    "    torch.cuda.synchronize()\n",
    "    start = time.time()\n",
    "    for _ in range(10):\n",
    "        c = torch.mm(a, b)\n",
    "    torch.cuda.synchronize()\n",
    "    end = time.time()\n",
    "    print(f\"Size: {size}x{size}, Time: {end - start:.4f} sec\")\n"
   ]
  },
  {
   "cell_type": "code",
   "execution_count": null,
   "id": "f83ec91d",
   "metadata": {},
   "outputs": [
    {
     "name": "stdout",
     "output_type": "stream",
     "text": [
      "Time for 20 iterations: 4.58 seconds\n"
     ]
    }
   ],
   "source": [
    "import torch\n",
    "import torchvision.models as models\n",
    "import torch.nn as nn\n",
    "import time\n",
    "\n",
    "device = torch.device(\"cuda\" if torch.cuda.is_available() else \"cpu\")\n",
    "print(device)\n",
    "model = models.resnet50().to(device)\n",
    "\n",
    "model.train()\n",
    "\n",
    "data = torch.randn(32, 3, 224, 224).to(device)\n",
    "target = torch.randint(0, 1000, (32,), dtype=torch.long).to(device)\n",
    "criterion = nn.CrossEntropyLoss()\n",
    "optimizer = torch.optim.SGD(model.parameters(), lr=0.01)\n",
    "\n",
    "# Warmup\n",
    "for _ in range(5):\n",
    "    optimizer.zero_grad()\n",
    "    output = model(data)\n",
    "    loss = criterion(output, target)\n",
    "    loss.backward()\n",
    "    optimizer.step()\n",
    "\n",
    "# Benchmark\n",
    "torch.cuda.synchronize()\n",
    "start = time.time()\n",
    "for _ in range(20):\n",
    "    optimizer.zero_grad()\n",
    "    output = model(data)\n",
    "    loss = criterion(output, target)\n",
    "    loss.backward()\n",
    "    optimizer.step()\n",
    "torch.cuda.synchronize()\n",
    "end = time.time()\n",
    "print(f\"Time for 20 iterations: {end - start:.2f} seconds\")\n"
   ]
  }
 ],
 "metadata": {
  "kernelspec": {
   "display_name": "advanced-machine-learning-labs-0TJYTEqJ-py3.12",
   "language": "python",
   "name": "python3"
  },
  "language_info": {
   "codemirror_mode": {
    "name": "ipython",
    "version": 3
   },
   "file_extension": ".py",
   "mimetype": "text/x-python",
   "name": "python",
   "nbconvert_exporter": "python",
   "pygments_lexer": "ipython3",
   "version": "3.12.3"
  }
 },
 "nbformat": 4,
 "nbformat_minor": 5
}
