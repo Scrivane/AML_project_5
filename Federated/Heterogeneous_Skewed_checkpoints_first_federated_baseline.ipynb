{
 "cells": [
  {
   "cell_type": "code",
   "execution_count": 2,
   "metadata": {
    "executionInfo": {
     "elapsed": 18290,
     "status": "ok",
     "timestamp": 1754078469644,
     "user": {
      "displayName": "Mattia Cappellino",
      "userId": "05271634366428679167"
     },
     "user_tz": -120
    },
    "id": "lGxnD3UbdWmb"
   },
   "outputs": [],
   "source": [
    "# ── A. Imports & Reproducibility ────────────────────────────────────────────────\n",
    "import os, copy\n",
    "import csv                                                  # For result logging :contentReference[oaicite:0]{index=0}\n",
    "import random                                               # For seeding :contentReference[oaicite:1]{index=1}\n",
    "import numpy as np                                          # For numeric ops :contentReference[oaicite:2]{index=2}\n",
    "import torch                                               # Core PyTorch :contentReference[oaicite:3]{index=3}\n",
    "import torch.nn as nn                                       # Neural-net modules :contentReference[oaicite:4]{index=4}\n",
    "import torch.nn.functional as F                             # Functional API :contentReference[oaicite:5]{index=5}\n",
    "import torch.optim as optim                                 # Optimizers :contentReference[oaicite:6]{index=6}\n",
    "from torch.optim.lr_scheduler import CosineAnnealingLR      # Scheduler :contentReference[oaicite:7]{index=7}\n",
    "from torch.utils.data import DataLoader, random_split       # Data loaders & splits :contentReference[oaicite:8]{index=8}\n",
    "import torchvision                                          # Datasets & transforms :contentReference[oaicite:9]{index=9}\n",
    "import torchvision.transforms as T                          # Transforms :contentReference[oaicite:10]{index=10}\n",
    "from torch.utils.tensorboard import SummaryWriter           # TensorBoard logging :contentReference[oaicite:11]{index=11}\n",
    "import matplotlib.pyplot as plt                             # Plotting :contentReference[oaicite:12]{index=12}"
   ]
  },
  {
   "cell_type": "code",
   "execution_count": 3,
   "metadata": {
    "colab": {
     "base_uri": "https://localhost:8080/"
    },
    "executionInfo": {
     "elapsed": 132,
     "status": "ok",
     "timestamp": 1754078469764,
     "user": {
      "displayName": "Mattia Cappellino",
      "userId": "05271634366428679167"
     },
     "user_tz": -120
    },
    "id": "39Q3SwyBdWnP",
    "outputId": "98fab035-474a-4dae-ca0a-2345b3d2be4a"
   },
   "outputs": [
    {
     "name": "stdout",
     "output_type": "stream",
     "text": [
      "Using device: cuda\n"
     ]
    }
   ],
   "source": [
    "# Seed everything for reproducibility\n",
    "seed = 42\n",
    "random.seed(seed)\n",
    "np.random.seed(seed)\n",
    "torch.manual_seed(seed)\n",
    "torch.cuda.manual_seed_all(seed)\n",
    "\n",
    "\n",
    "# ── B. Device ───────────────────────────────────────────────────────────────────\n",
    "device = torch.device(\"cuda\" if torch.cuda.is_available() else \"cpu\")\n",
    "print(f\"Using device: {device}\")                             # Confirm GPU vs CPU :contentReference[oaicite:13]{index=13}\n",
    "\n",
    "\n",
    "\n",
    "# ── C. Data Preparation ─────────────────────────────────────────────────────────\n",
    "# Transforms\n",
    "transform_train = T.Compose([\n",
    "    T.RandomCrop(32, padding=4), T.RandomHorizontalFlip(),\n",
    "    T.ToTensor(),\n",
    "    T.Normalize((0.5071,0.4867,0.4408),(0.2675,0.2565,0.2761)),\n",
    "])\n",
    "transform_test = T.Compose([\n",
    "    T.ToTensor(),\n",
    "    T.Normalize((0.5071,0.4867,0.4408),(0.2675,0.2565,0.2761)),\n",
    "])\n"
   ]
  },
  {
   "cell_type": "code",
   "execution_count": 4,
   "metadata": {
    "executionInfo": {
     "elapsed": 110,
     "status": "ok",
     "timestamp": 1754078469875,
     "user": {
      "displayName": "Mattia Cappellino",
      "userId": "05271634366428679167"
     },
     "user_tz": -120
    },
    "id": "bF8TWhdImubH"
   },
   "outputs": [],
   "source": [
    "import glob, torch, os\n",
    "\n",
    "def latest_ckpt(dirpath, pattern=\"last_ckpt_round_*.pth\"):\n",
    "    paths = glob.glob(os.path.join(dirpath, pattern))\n",
    "    if not paths:\n",
    "        return None\n",
    "    paths.sort(key=lambda p: int(p.rsplit(\"_\", 1)[1].split(\".\")[0]))\n",
    "    return paths[-1]\n",
    "\n",
    "\n",
    "def load_checkpoint(model, optimizer, ckpt_dir, resume=True):\n",
    "    if not resume:\n",
    "        print(\"[Checkpoint] Starting training from scratch.\")\n",
    "        return 1\n",
    "    ckpt_path = latest_ckpt(ckpt_dir)\n",
    "    if ckpt_path is None:\n",
    "        print(\"[Checkpoint] No checkpoint found; training from scratch.\")\n",
    "        return 1\n",
    "    # Load checkpoint tensors onto CPU to preserve RNG state tensor\n",
    "    ckpt = torch.load(ckpt_path, map_location='cpu')\n",
    "    model.load_state_dict(ckpt['model_state'])\n",
    "    optimizer.load_state_dict(ckpt['optimizer_state'])\n",
    "    # Restore CPU RNG state\n",
    "    rng_state = ckpt['rng_state']\n",
    "    if rng_state.device.type != 'cpu':\n",
    "        rng_state = rng_state.cpu()\n",
    "    torch.set_rng_state(rng_state)\n",
    "    print(f\"[Checkpoint] Resumed from round {ckpt['round']} (loaded {os.path.basename(ckpt_path)})\")\n",
    "    return ckpt['round'] + 1\n",
    "\n",
    "\n",
    "\n",
    "\n",
    "\n",
    "\n",
    "\n",
    "def save_checkpoint(model, optimizer, round_num, ckpt_dir, is_best=False):\n",
    "    os.makedirs(ckpt_dir, exist_ok=True)  # create chackpoint dir if not exist \n",
    "\n",
    "    print(f\"[Checkpoint] Saving round {round_num}...\")\n",
    "    state = {\n",
    "        'round': round_num,\n",
    "        'model_state': model.state_dict(),\n",
    "        'optimizer_state': optimizer.state_dict(),\n",
    "        'rng_state': torch.get_rng_state(),\n",
    "    }\n",
    "    fname = f\"{'best' if is_best else 'last'}_ckpt_round_{round_num}.pth\"\n",
    "\n",
    "    torch.save(state, os.path.join(ckpt_dir, fname))\n",
    "    if is_best:\n",
    "        torch.save(model.state_dict(), os.path.join(ckpt_dir, 'best_model.pth'))\n",
    "    print(f\"[Checkpoint] Done saving to {fname}\")\n",
    "\n",
    "    for existing in os.listdir(ckpt_dir):\n",
    "        existing_path = os.path.join(ckpt_dir, existing)\n",
    "        if (\n",
    "            existing.endswith('.pth')\n",
    "            and existing != fname\n",
    "            and existing != 'best_model.pth'\n",
    "        ):\n",
    "            os.remove(existing_path)\n",
    "            print(f\"  Deleted: {existing}\")\n",
    "\n",
    "\n"
   ]
  },
  {
   "cell_type": "code",
   "execution_count": 5,
   "metadata": {
    "colab": {
     "base_uri": "https://localhost:8080/"
    },
    "executionInfo": {
     "elapsed": 17611,
     "status": "ok",
     "timestamp": 1754078487488,
     "user": {
      "displayName": "Mattia Cappellino",
      "userId": "05271634366428679167"
     },
     "user_tz": -120
    },
    "id": "1KsmNAdjdWqH",
    "outputId": "57f6082f-3308-4ea0-ebbe-18f9f278bf3b"
   },
   "outputs": [],
   "source": [
    "# ── C. Data Preparation ─────────────────────────────────────────────────────────\n",
    "# Transforms (as before)…\n",
    "\n",
    "# Download full CIFAR‑100 training set\n",
    "full_train = torchvision.datasets.CIFAR100(\n",
    "    root='./data', train=True, download=True, transform=transform_train\n",
    ")\n",
    "\n",
    "# 1) Centralized validation split\n",
    "val_size   = 5000\n",
    "train_size = len(full_train) - val_size\n",
    "train_dataset, val_dataset = random_split(\n",
    "    full_train,\n",
    "    [train_size, val_size],\n",
    "    generator=torch.Generator().manual_seed(seed)\n",
    ")\n",
    "\n",
    "# ── C.1 Build validation loader ───────────────────────────────\n",
    "BS_VAL = 256\n",
    "val_loader = DataLoader(\n",
    "    val_dataset,\n",
    "    batch_size=BS_VAL,\n",
    "    shuffle=False,\n",
    "    num_workers=2\n",
    ")\n",
    "\n",
    "\n",
    "# 2) IID sharding of the remaining train_dataset into K=100 clients\n",
    "K = 100\n",
    "base = train_size // K\n",
    "sizes = [base] * (K - 1) + [train_size - base * (K - 1)]\n",
    "shards = random_split(\n",
    "    train_dataset,\n",
    "    sizes,\n",
    "    generator=torch.Generator().manual_seed(seed)\n",
    "    )\n",
    "\n",
    "\n",
    "# 3) Global test set (unchanged)\n",
    "test_dataset = torchvision.datasets.CIFAR100(\n",
    "    root='./data', train=False, download=True, transform=transform_test\n",
    ")\n",
    "\n",
    "bs_test = 256\n",
    "test_loader = DataLoader(\n",
    "    test_dataset, batch_size=bs_test, shuffle=False, num_workers=2\n",
    ")\n",
    "\n",
    "# 4) (Later) you can build per-client loaders:\n",
    "# client_loaders = [\n",
    "#     DataLoader(shards[i], batch_size=bs, shuffle=True, num_workers=2)\n",
    "#     for i in range(K)\n",
    "# ]\n"
   ]
  },
  {
   "cell_type": "code",
   "execution_count": 6,
   "metadata": {
    "executionInfo": {
     "elapsed": 14,
     "status": "ok",
     "timestamp": 1754078487504,
     "user": {
      "displayName": "Mattia Cappellino",
      "userId": "05271634366428679167"
     },
     "user_tz": -120
    },
    "id": "9zukJAc0dWq0"
   },
   "outputs": [],
   "source": [
    "# ── D. Model Definition ─────────────────────────────────────────────────────────\n",
    "class LELeNetCIFAR(nn.Module):\n",
    "    def __init__(self):\n",
    "        super().__init__()\n",
    "        self.conv1 = nn.Conv2d(3, 64, kernel_size=5, padding=2)\n",
    "        self.pool1 = nn.MaxPool2d(2)\n",
    "        self.conv2 = nn.Conv2d(64, 64, kernel_size=5, padding=2)\n",
    "        self.pool2 = nn.MaxPool2d(2)\n",
    "        self.fc1   = nn.Linear(64*8*8, 384)\n",
    "        self.fc2   = nn.Linear(384, 192)\n",
    "        self.fc3   = nn.Linear(192, 100)\n",
    "    def forward(self, x):\n",
    "        x = self.pool1(F.relu(self.conv1(x)))\n",
    "        x = self.pool2(F.relu(self.conv2(x)))\n",
    "        x = torch.flatten(x, 1)\n",
    "        x = F.relu(self.fc1(x)); x = F.relu(self.fc2(x))\n",
    "        return self.fc3(x)"
   ]
  },
  {
   "cell_type": "code",
   "execution_count": 7,
   "metadata": {
    "executionInfo": {
     "elapsed": 5,
     "status": "ok",
     "timestamp": 1754079040020,
     "user": {
      "displayName": "Mattia Cappellino",
      "userId": "05271634366428679167"
     },
     "user_tz": -120
    },
    "id": "bnOGpNdtw-X0"
   },
   "outputs": [],
   "source": [
    "# ── E. Utilities: Train/Eval & Checkpointing ────────────────────────────────────\n",
    "def train_one_epoch(model, optimizer, criterion, loader):\n",
    "    model.train()\n",
    "    running_loss = correct = total = 0\n",
    "    for imgs, lbls in loader:\n",
    "        imgs, lbls = imgs.to(device), lbls.to(device)\n",
    "        optimizer.zero_grad()\n",
    "        out = model(imgs)\n",
    "        loss = criterion(out, lbls)\n",
    "        loss.backward(); optimizer.step()\n",
    "        running_loss += loss.item()*imgs.size(0)\n",
    "        correct += out.argmax(1).eq(lbls).sum().item()\n",
    "        total += lbls.size(0)\n",
    "    return running_loss/total, correct/total\n",
    "\n",
    "def eval_model(model, criterion, loader):\n",
    "    model.eval()\n",
    "    running_loss = correct = total = 0\n",
    "    with torch.no_grad():\n",
    "        for imgs, lbls in loader:\n",
    "            imgs, lbls = imgs.to(device), lbls.to(device)\n",
    "            out = model(imgs); loss = criterion(out, lbls)\n",
    "            running_loss += loss.item()*imgs.size(0)\n",
    "            correct += out.argmax(1).eq(lbls).sum().item()\n",
    "            total += lbls.size(0)\n",
    "    return running_loss/total, correct/total\n",
    "\n",
    "\n",
    "def sample_clients_dirichlet(K, m, gamma, rng=None):\n",
    "    \"\"\"\n",
    "    Sample m clients out of K with probabilities drawn from a Dirichlet(gamma) distribution.\n",
    "    Returns:\n",
    "      selected: list of client indices\n",
    "      p:      numpy array of length K with the sampling probabilities\n",
    "    \"\"\"\n",
    "    rng = np.random.default_rng(seed)\n",
    "    if gamma == 'uniform':\n",
    "        p = np.ones(K) / K\n",
    "        selected = rng.choice(K, size=m, replace=False)\n",
    "    else:\n",
    "        alpha = np.ones(K) * gamma\n",
    "        p = rng.dirichlet(alpha)\n",
    "        p = p / p.sum()                          # ensure sum=1\n",
    "        selected = rng.choice(K, size=m, replace=False, p=p)\n",
    "    return selected.tolist(), p\n",
    "\n"
   ]
  },
  {
   "cell_type": "code",
   "execution_count": 8,
   "metadata": {
    "colab": {
     "base_uri": "https://localhost:8080/",
     "height": 616
    },
    "executionInfo": {
     "elapsed": 373651,
     "status": "error",
     "timestamp": 1754079427991,
     "user": {
      "displayName": "Mattia Cappellino",
      "userId": "05271634366428679167"
     },
     "user_tz": -120
    },
    "id": "QAGLQObvdWs7",
    "outputId": "6d1ed3c1-c7cc-44ef-e651-e005cb227308"
   },
   "outputs": [
    {
     "name": "stdout",
     "output_type": "stream",
     "text": [
      "[Checkpoint] Resumed from round 1800 (loaded last_ckpt_round_1800.pth)\n",
      "[Training] Beginning training from round 1801 to 2000.\n",
      "Saving checkpoint 1900 on Google Drive\n",
      "[Checkpoint] Saving round 1900...\n",
      "[Checkpoint] Done saving to last_ckpt_round_1900.pth\n",
      "  Deleted: last_ckpt_round_1800.pth\n",
      "Round 1900/2000 → Val Acc: 0.1824, Test Acc: 0.1892\n",
      "Saving checkpoint 2000 on Google Drive\n",
      "[Checkpoint] Saving round 2000...\n",
      "[Checkpoint] Done saving to last_ckpt_round_2000.pth\n",
      "  Deleted: last_ckpt_round_1900.pth\n",
      "Round 2000/2000 → Val Acc: 0.1902, Test Acc: 0.1909\n"
     ]
    }
   ],
   "source": [
    "\n",
    "# ── A. Mount Google Drive ─────────────────────────────────────────────────────\n",
    "import os\n",
    "try:\n",
    "    from google.colab import drive\n",
    "    # If import succeeds, we are likely in Colab\n",
    "    IN_COLAB = True\n",
    "except ImportError:\n",
    "    # If import fails, we are likely not in Colab\n",
    "    IN_COLAB = False\n",
    "\n",
    "if IN_COLAB:\n",
    "    drive.mount('/content/drive')\n",
    "    CKPT_DIR = '/content/drive/MyDrive/fl_checkpoints'\n",
    "else:\n",
    "    CKPT_DIR = './fl_checkpoints'\n",
    "\n",
    "\n",
    "\n",
    "# Set this to True to resume from the last checkpoint; False to start from scratch\n",
    "RESUME = True\n",
    "\n",
    "\n",
    "\n",
    "# ── A. FedAvg Hyperparameters ───────────────────────────────────────────────────\n",
    "# Fixed FL parameters\n",
    "K      = 100      # total clients\n",
    "C      = 0.1      # fraction of clients sampled per round\n",
    "J      = 4        # local epochs per client\n",
    "ROUNDS = 2000  #2000     # total communication rounds\n",
    "\n",
    "# Optimizer hyperparameters (constant, no schedule)\n",
    "LR     = 0.01     # fixed learning rate\n",
    "WD     = 1e-4     # weight decay\n",
    "BS     = 128      # per-client batch size\n",
    "\n",
    "#gamma value for dirichlet client selection\n",
    "GAMMA = 10 #try later with 0.1 and 1.0 and 'uniform'\n",
    "\n",
    "# ── Instantiate TensorBoard writer ──────────────────────────────────────────────\n",
    "from torch.utils.tensorboard import SummaryWriter\n",
    "log_dir   = f\"./logs/FedAvg_lr{LR}_wd{WD}_bs{BS}\"\n",
    "tb_writer = SummaryWriter(log_dir=log_dir)\n",
    "\n",
    "# ── B. CSV Logging Setup ────────────────────────────────────────────────────────\n",
    "import csv, os\n",
    "csv_path = './fedavg_results.csv'\n",
    "\n",
    "\n",
    "\n",
    "# ── B. CSV Logging Setup ────────────────────────────────────────────────────────\n",
    "import csv, os\n",
    "csv_path = './fedavg_results.csv'\n",
    "if not os.path.exists(csv_path):\n",
    "    with open(csv_path, 'w', newline='') as f:\n",
    "        writer = csv.writer(f)\n",
    "        writer.writerow([\n",
    "            'round',\n",
    "            'val_loss', 'val_acc',\n",
    "            'test_loss', 'test_acc'\n",
    "        ])\n",
    "\n",
    "# Before your FedAvg loop: Instantiate the global model, loss, and client loaders once\n",
    "\n",
    "# Instantiate model, optimizer, loss, and client loaders\n",
    "global_model   = LELeNetCIFAR().to(device)\n",
    "optimizer      = optim.SGD(global_model.parameters(), lr=LR, momentum=0.9, weight_decay=WD)\n",
    "criterion      = nn.CrossEntropyLoss()\n",
    "client_loaders = [\n",
    "    DataLoader(shards[i], batch_size=BS, shuffle=True, num_workers=2)\n",
    "    for i in range(K)\n",
    "]\n",
    "\n",
    "\n",
    "\n",
    "\n",
    "\n",
    "# Load checkpoint (or start at 1)\n",
    "start_round = load_checkpoint(global_model, optimizer, CKPT_DIR, resume=RESUME)\n",
    "\n",
    "\n",
    "\n",
    "\n",
    "\n",
    "\n",
    "print(f\"[Training] Beginning training from round {start_round} to {ROUNDS}.\")\n",
    "\n",
    "# ── C. FedAvg Training Loop ─────────────────────────────────────────────────────\n",
    "for rnd in range(start_round, ROUNDS + 1):\n",
    "    # 1) Sample clients\n",
    "    #print(f\"[Round {rnd}] Sampling {int(C*K)} clients...\")\n",
    "    m = max(1, int(C * K))      # → 10 clients per round when K=100, C=0.1\n",
    "    selected, p = sample_clients_dirichlet(K, m, gamma=GAMMA)\n",
    "    #sampling_probs_history.append(p)\n",
    "\n",
    "    local_states, sizes = [], []\n",
    "    for i in selected:\n",
    "        # 2a) Copy global model\n",
    "        client_model = copy.deepcopy(global_model)\n",
    "        client_model.train()\n",
    "        client_opt = optim.SGD(client_model.parameters(), lr=LR, momentum=0.9, weight_decay=WD)\n",
    "\n",
    "        # 2b) Local training for J epochs\n",
    "        for _ in range(J):\n",
    "            loss, acc = train_one_epoch(client_model, client_opt, criterion, client_loaders[i])\n",
    "        local_states.append(client_model.state_dict())\n",
    "        sizes.append(len(shards[i]))\n",
    "\n",
    "\n",
    "\n",
    "    # 3) Weighted aggregation\n",
    "    total_size = sum(sizes)\n",
    "    new_state = {}\n",
    "    for k in global_model.state_dict():\n",
    "        new_state[k] = sum((sizes[j] / total_size) * local_states[j][k] for j in range(len(sizes)))\n",
    "    global_model.load_state_dict(new_state)\n",
    "\n",
    "    # 4) Global evaluation\n",
    "    # 4a) Validation evaluation\n",
    "    val_loss, val_acc = eval_model(global_model, criterion, val_loader)\n",
    "\n",
    "    # 4b) Test evaluation\n",
    "    test_loss, test_acc = eval_model(global_model, criterion, test_loader)\n",
    "\n",
    "    # 5) Checkpoint & logging\n",
    "    with open(csv_path, 'a', newline='') as f:\n",
    "        csv.writer(f).writerow([rnd,\n",
    "                                f\"{val_loss:.4f}\", f\"{val_acc:.4f}\",\n",
    "                                f\"{test_loss:.4f}\", f\"{test_acc:.4f}\"])\n",
    "\n",
    "\n",
    "    # 6) TensorBoard logging\n",
    "    tb_writer.add_scalar('Accuracy/Validation', val_acc, rnd)\n",
    "    tb_writer.add_scalar('Loss/Validation',    val_loss, rnd)\n",
    "    tb_writer.add_scalar('Accuracy/Test',       test_acc, rnd)\n",
    "    tb_writer.add_scalar('Loss/Test',           test_loss, rnd)\n",
    "\n",
    "\n",
    "    if rnd % 100 == 0 or rnd == 1:\n",
    "        #diocan sono 7 MB l uno, ne salvo solo qualcuno\n",
    "        print(f\"Saving checkpoint {rnd} on Google Drive\")\n",
    "        save_checkpoint(global_model, optimizer, rnd, CKPT_DIR, is_best=False)\n",
    "\n",
    "        print(f\"Round {rnd}/{ROUNDS} → \"\n",
    "              f\"Val Acc: {val_acc:.4f}, Test Acc: {test_acc:.4f}\")\n"
   ]
  },
  {
   "cell_type": "code",
   "execution_count": 30,
   "metadata": {},
   "outputs": [
    {
     "name": "stdout",
     "output_type": "stream",
     "text": [
      "Filtered results written to ./fedavg_results_skewed.csv\n"
     ]
    }
   ],
   "source": [
    "csv_path = './fedavg_results.csv'\n",
    "def clean_results_history(results_file_name,new_file_name):\n",
    "    input_file = results_file_name\n",
    "    output_file=new_file_name\n",
    "\n",
    "\n",
    "    # Read and clean lines\n",
    "    with open(input_file, \"r\") as f:\n",
    "        lines = [line.strip() for line in f if line.strip()]\n",
    "\n",
    "    filtered = []\n",
    "    last_seen_index = float('inf')  # Start with a very large number\n",
    "    header = lines[0]\n",
    "    data_lines = lines[1:]\n",
    "\n",
    "    # Iterate in reverse\n",
    "    for line in reversed(data_lines):\n",
    "        current_index = int(line.split(',')[0])\n",
    "        if current_index < last_seen_index:\n",
    "            filtered.append(line)\n",
    "            last_seen_index = current_index\n",
    "        else:\n",
    "            # Skip this line, as its index is higher than the next one\n",
    "            continue\n",
    "\n",
    "    # Reverse again to restore original order (except removed lines)\n",
    "    filtered.reverse()\n",
    "\n",
    "    # Write to output\n",
    "    with open(output_file, \"w\") as f:\n",
    "        f.write(header+\"\\n\")\n",
    "\n",
    "        f.write('\\n'.join(filtered))\n",
    "\n",
    "    print(f\"Filtered results written to {output_file}\")\n",
    "cleaned_path='./fedavg_results_skewed.csv'\n",
    "clean_results_history(csv_path,cleaned_path)"
   ]
  },
  {
   "cell_type": "code",
   "execution_count": null,
   "metadata": {
    "executionInfo": {
     "elapsed": 74819,
     "status": "aborted",
     "timestamp": 1754078525541,
     "user": {
      "displayName": "Mattia Cappellino",
      "userId": "05271634366428679167"
     },
     "user_tz": -120
    },
    "id": "Qx5SLtcQggbL"
   },
   "outputs": [
    {
     "name": "stdout",
     "output_type": "stream",
     "text": [
      "\n",
      "========== FEDAVG RUN SUMMARY (2025-08-04 20:25:04) ==========\n",
      "    • lr: 0.01\n",
      "    • weight_decay: 0.0001\n",
      "    • batch_size: 128\n",
      "    • K: 100\n",
      "    • C: 0.1\n",
      "    • J: 4\n",
      "    • ROUNDS: 2000\n",
      "    • clients (K): 100, shard size: 450\n",
      "    • test samples: 10000, batch size: 128\n"
     ]
    }
   ],
   "source": [
    "# ── Configuration Summary & Utilities for FedAvg ──────────────────────────────\n",
    "\n",
    "import os, sys, platform, time\n",
    "import torch\n",
    "import numpy as np\n",
    "import random\n",
    "from torch.utils.tensorboard import SummaryWriter\n",
    "\n",
    "# 1) Define and instantiate your TensorBoard writer\n",
    "log_dir = f\"./logs/FedAvg_lr{LR}_wd{WD}_bs{BS}\"\n",
    "tb_writer = SummaryWriter(log_dir=log_dir)\n",
    "\n",
    "# 2) Summary utility\n",
    "def summarize_run(cfg, client_loaders, test_loader, writer=None):\n",
    "    \"\"\"\n",
    "    Print and log summary for a FedAvg run.\n",
    "    \"\"\"\n",
    "    ts = time.strftime(\"%Y-%m-%d %H:%M:%S\", time.localtime())\n",
    "    print(f\"\\n========== FEDAVG RUN SUMMARY ({ts}) ==========\")\n",
    "    # Hyperparameters\n",
    "    for key in ['lr','weight_decay','batch_size','K','C','J','ROUNDS',\"GAMMA\"]:\n",
    "        print(f\"    • {key}: {cfg[key]}\")\n",
    "    # Data info\n",
    "    num_clients  = len(client_loaders)\n",
    "    shard_size   = len(client_loaders[0].dataset)\n",
    "    test_samples = len(test_loader.dataset)\n",
    "    print(f\"    • clients (K): {num_clients}, shard size: {shard_size}\")\n",
    "    print(f\"    • test samples: {test_samples}, batch size: {cfg['batch_size']}\")\n",
    "    # Log to TensorBoard\n",
    "    if writer:\n",
    "        for key in ['lr','weight_decay','batch_size','K','C','J','ROUNDS']:\n",
    "            writer.add_text(f'RunInfo/{key}', str(cfg[key]), 0)\n",
    "\n",
    "# 3) Checkpoint utility\n",
    "ckpt_dir = './checkpoints'\n",
    "os.makedirs(ckpt_dir, exist_ok=True)\n",
    "\n",
    "\n",
    "# ── Example Usage ────────────────────────────────────────────────────────────────\n",
    "\n",
    "cfg = {\n",
    "    'lr':           LR,\n",
    "    'weight_decay': WD,\n",
    "    'batch_size':   BS,\n",
    "    'K':            K,\n",
    "    'C':            C,\n",
    "    'J':            J,\n",
    "    'ROUNDS':       ROUNDS,\n",
    "    'GAMMA':GAMMA\n",
    "}\n",
    "\n",
    "# Print and log your FedAvg setup before starting training:\n",
    "summarize_run(cfg, client_loaders, test_loader, tb_writer)\n"
   ]
  },
  {
   "cell_type": "code",
   "execution_count": 32,
   "metadata": {
    "executionInfo": {
     "elapsed": 74839,
     "status": "aborted",
     "timestamp": 1754078525565,
     "user": {
      "displayName": "Mattia Cappellino",
      "userId": "05271634366428679167"
     },
     "user_tz": -120
    },
    "id": "VMYuWSfTdWtt"
   },
   "outputs": [
    {
     "name": "stdout",
     "output_type": "stream",
     "text": [
      "First 5 rounds:\n"
     ]
    },
    {
     "data": {
      "text/html": [
       "<div>\n",
       "<style scoped>\n",
       "    .dataframe tbody tr th:only-of-type {\n",
       "        vertical-align: middle;\n",
       "    }\n",
       "\n",
       "    .dataframe tbody tr th {\n",
       "        vertical-align: top;\n",
       "    }\n",
       "\n",
       "    .dataframe thead th {\n",
       "        text-align: right;\n",
       "    }\n",
       "</style>\n",
       "<table border=\"1\" class=\"dataframe\">\n",
       "  <thead>\n",
       "    <tr style=\"text-align: right;\">\n",
       "      <th></th>\n",
       "      <th>round</th>\n",
       "      <th>val_loss</th>\n",
       "      <th>val_acc</th>\n",
       "      <th>test_loss</th>\n",
       "      <th>test_acc</th>\n",
       "    </tr>\n",
       "  </thead>\n",
       "  <tbody>\n",
       "    <tr>\n",
       "      <th>0</th>\n",
       "      <td>1</td>\n",
       "      <td>4.6049</td>\n",
       "      <td>0.0072</td>\n",
       "      <td>4.6049</td>\n",
       "      <td>0.0093</td>\n",
       "    </tr>\n",
       "    <tr>\n",
       "      <th>1</th>\n",
       "      <td>2</td>\n",
       "      <td>4.6028</td>\n",
       "      <td>0.0128</td>\n",
       "      <td>4.6026</td>\n",
       "      <td>0.0122</td>\n",
       "    </tr>\n",
       "    <tr>\n",
       "      <th>2</th>\n",
       "      <td>3</td>\n",
       "      <td>4.6000</td>\n",
       "      <td>0.0146</td>\n",
       "      <td>4.5995</td>\n",
       "      <td>0.0145</td>\n",
       "    </tr>\n",
       "    <tr>\n",
       "      <th>3</th>\n",
       "      <td>4</td>\n",
       "      <td>4.5958</td>\n",
       "      <td>0.0160</td>\n",
       "      <td>4.5947</td>\n",
       "      <td>0.0175</td>\n",
       "    </tr>\n",
       "    <tr>\n",
       "      <th>4</th>\n",
       "      <td>5</td>\n",
       "      <td>4.5880</td>\n",
       "      <td>0.0236</td>\n",
       "      <td>4.5862</td>\n",
       "      <td>0.0212</td>\n",
       "    </tr>\n",
       "  </tbody>\n",
       "</table>\n",
       "</div>"
      ],
      "text/plain": [
       "   round  val_loss  val_acc  test_loss  test_acc\n",
       "0      1    4.6049   0.0072     4.6049    0.0093\n",
       "1      2    4.6028   0.0128     4.6026    0.0122\n",
       "2      3    4.6000   0.0146     4.5995    0.0145\n",
       "3      4    4.5958   0.0160     4.5947    0.0175\n",
       "4      5    4.5880   0.0236     4.5862    0.0212"
      ]
     },
     "metadata": {},
     "output_type": "display_data"
    },
    {
     "name": "stdout",
     "output_type": "stream",
     "text": [
      "Last 5 rounds:\n"
     ]
    },
    {
     "data": {
      "text/html": [
       "<div>\n",
       "<style scoped>\n",
       "    .dataframe tbody tr th:only-of-type {\n",
       "        vertical-align: middle;\n",
       "    }\n",
       "\n",
       "    .dataframe tbody tr th {\n",
       "        vertical-align: top;\n",
       "    }\n",
       "\n",
       "    .dataframe thead th {\n",
       "        text-align: right;\n",
       "    }\n",
       "</style>\n",
       "<table border=\"1\" class=\"dataframe\">\n",
       "  <thead>\n",
       "    <tr style=\"text-align: right;\">\n",
       "      <th></th>\n",
       "      <th>round</th>\n",
       "      <th>val_loss</th>\n",
       "      <th>val_acc</th>\n",
       "      <th>test_loss</th>\n",
       "      <th>test_acc</th>\n",
       "    </tr>\n",
       "  </thead>\n",
       "  <tbody>\n",
       "    <tr>\n",
       "      <th>1995</th>\n",
       "      <td>1996</td>\n",
       "      <td>13.3645</td>\n",
       "      <td>0.1862</td>\n",
       "      <td>13.9108</td>\n",
       "      <td>0.1901</td>\n",
       "    </tr>\n",
       "    <tr>\n",
       "      <th>1996</th>\n",
       "      <td>1997</td>\n",
       "      <td>13.2533</td>\n",
       "      <td>0.1862</td>\n",
       "      <td>13.9080</td>\n",
       "      <td>0.1895</td>\n",
       "    </tr>\n",
       "    <tr>\n",
       "      <th>1997</th>\n",
       "      <td>1998</td>\n",
       "      <td>13.3716</td>\n",
       "      <td>0.1774</td>\n",
       "      <td>13.9102</td>\n",
       "      <td>0.1902</td>\n",
       "    </tr>\n",
       "    <tr>\n",
       "      <th>1998</th>\n",
       "      <td>1999</td>\n",
       "      <td>13.3359</td>\n",
       "      <td>0.1866</td>\n",
       "      <td>13.9168</td>\n",
       "      <td>0.1895</td>\n",
       "    </tr>\n",
       "    <tr>\n",
       "      <th>1999</th>\n",
       "      <td>2000</td>\n",
       "      <td>13.2002</td>\n",
       "      <td>0.1902</td>\n",
       "      <td>13.9123</td>\n",
       "      <td>0.1909</td>\n",
       "    </tr>\n",
       "  </tbody>\n",
       "</table>\n",
       "</div>"
      ],
      "text/plain": [
       "      round  val_loss  val_acc  test_loss  test_acc\n",
       "1995   1996   13.3645   0.1862    13.9108    0.1901\n",
       "1996   1997   13.2533   0.1862    13.9080    0.1895\n",
       "1997   1998   13.3716   0.1774    13.9102    0.1902\n",
       "1998   1999   13.3359   0.1866    13.9168    0.1895\n",
       "1999   2000   13.2002   0.1902    13.9123    0.1909"
      ]
     },
     "metadata": {},
     "output_type": "display_data"
    },
    {
     "name": "stdout",
     "output_type": "stream",
     "text": [
      "Max Test Acc = 0.1931\n"
     ]
    },
    {
     "data": {
      "image/png": "[encoded data removed]",
      "text/plain": [
       "<Figure size 1200x500 with 1 Axes>"
      ]
     },
     "metadata": {},
     "output_type": "display_data"
    }
   ],
   "source": [
    "import pandas as pd\n",
    "import matplotlib.pyplot as plt\n",
    "\n",
    "# 1. Load the correct results file\n",
    "csv_path = cleaned_path   # update to your actual path\n",
    "\n",
    "\n",
    "df = pd.read_csv(csv_path)\n",
    "\n",
    "# 2. Inspect first/last entries\n",
    "print(\"First 5 rounds:\")\n",
    "display(df.head())\n",
    "print(\"Last 5 rounds:\")\n",
    "display(df.tail())\n",
    "\n",
    "\n",
    "\n",
    "print(f\"Max Test Acc = {df['test_acc'].max():.4f}\")\n",
    "\n",
    "# 3. Plot Test Accuracy over Federated Rounds\n",
    "plt.figure(figsize=(12, 5))\n",
    "plt.plot(df['round'], df['test_acc'], label='Test Acc')\n",
    "plt.xlabel('Federated Round')\n",
    "plt.ylabel('Global Test Accuracy')\n",
    "plt.title('FedAvg on CIFAR-100: Test Accuracy over Rounds')\n",
    "plt.grid(True)\n",
    "plt.legend()\n",
    "plt.tight_layout()\n",
    "plt.show()\n"
   ]
  },
  {
   "cell_type": "code",
   "execution_count": 23,
   "metadata": {
    "executionInfo": {
     "elapsed": 74873,
     "status": "aborted",
     "timestamp": 1754078525603,
     "user": {
      "displayName": "Mattia Cappellino",
      "userId": "05271634366428679167"
     },
     "user_tz": -120
    },
    "id": "3rNf-hPZdWuf"
   },
   "outputs": [
    {
     "name": "stdout",
     "output_type": "stream",
     "text": [
      "First rounds:\n"
     ]
    },
    {
     "data": {
      "text/html": [
       "<div>\n",
       "<style scoped>\n",
       "    .dataframe tbody tr th:only-of-type {\n",
       "        vertical-align: middle;\n",
       "    }\n",
       "\n",
       "    .dataframe tbody tr th {\n",
       "        vertical-align: top;\n",
       "    }\n",
       "\n",
       "    .dataframe thead th {\n",
       "        text-align: right;\n",
       "    }\n",
       "</style>\n",
       "<table border=\"1\" class=\"dataframe\">\n",
       "  <thead>\n",
       "    <tr style=\"text-align: right;\">\n",
       "      <th></th>\n",
       "      <th>round</th>\n",
       "      <th>val_loss</th>\n",
       "      <th>val_acc</th>\n",
       "      <th>test_loss</th>\n",
       "      <th>test_acc</th>\n",
       "    </tr>\n",
       "  </thead>\n",
       "  <tbody>\n",
       "    <tr>\n",
       "      <th>0</th>\n",
       "      <td>1</td>\n",
       "      <td>4.6049</td>\n",
       "      <td>0.0072</td>\n",
       "      <td>4.6049</td>\n",
       "      <td>0.0093</td>\n",
       "    </tr>\n",
       "    <tr>\n",
       "      <th>1</th>\n",
       "      <td>2</td>\n",
       "      <td>4.6028</td>\n",
       "      <td>0.0128</td>\n",
       "      <td>4.6026</td>\n",
       "      <td>0.0122</td>\n",
       "    </tr>\n",
       "    <tr>\n",
       "      <th>2</th>\n",
       "      <td>3</td>\n",
       "      <td>4.6000</td>\n",
       "      <td>0.0146</td>\n",
       "      <td>4.5995</td>\n",
       "      <td>0.0145</td>\n",
       "    </tr>\n",
       "    <tr>\n",
       "      <th>3</th>\n",
       "      <td>4</td>\n",
       "      <td>4.5958</td>\n",
       "      <td>0.0160</td>\n",
       "      <td>4.5947</td>\n",
       "      <td>0.0175</td>\n",
       "    </tr>\n",
       "    <tr>\n",
       "      <th>4</th>\n",
       "      <td>5</td>\n",
       "      <td>4.5880</td>\n",
       "      <td>0.0236</td>\n",
       "      <td>4.5862</td>\n",
       "      <td>0.0212</td>\n",
       "    </tr>\n",
       "  </tbody>\n",
       "</table>\n",
       "</div>"
      ],
      "text/plain": [
       "   round  val_loss  val_acc  test_loss  test_acc\n",
       "0      1    4.6049   0.0072     4.6049    0.0093\n",
       "1      2    4.6028   0.0128     4.6026    0.0122\n",
       "2      3    4.6000   0.0146     4.5995    0.0145\n",
       "3      4    4.5958   0.0160     4.5947    0.0175\n",
       "4      5    4.5880   0.0236     4.5862    0.0212"
      ]
     },
     "metadata": {},
     "output_type": "display_data"
    },
    {
     "name": "stdout",
     "output_type": "stream",
     "text": [
      "Last rounds:\n"
     ]
    },
    {
     "data": {
      "text/html": [
       "<div>\n",
       "<style scoped>\n",
       "    .dataframe tbody tr th:only-of-type {\n",
       "        vertical-align: middle;\n",
       "    }\n",
       "\n",
       "    .dataframe tbody tr th {\n",
       "        vertical-align: top;\n",
       "    }\n",
       "\n",
       "    .dataframe thead th {\n",
       "        text-align: right;\n",
       "    }\n",
       "</style>\n",
       "<table border=\"1\" class=\"dataframe\">\n",
       "  <thead>\n",
       "    <tr style=\"text-align: right;\">\n",
       "      <th></th>\n",
       "      <th>round</th>\n",
       "      <th>val_loss</th>\n",
       "      <th>val_acc</th>\n",
       "      <th>test_loss</th>\n",
       "      <th>test_acc</th>\n",
       "    </tr>\n",
       "  </thead>\n",
       "  <tbody>\n",
       "    <tr>\n",
       "      <th>1995</th>\n",
       "      <td>1996</td>\n",
       "      <td>13.3645</td>\n",
       "      <td>0.1862</td>\n",
       "      <td>13.9108</td>\n",
       "      <td>0.1901</td>\n",
       "    </tr>\n",
       "    <tr>\n",
       "      <th>1996</th>\n",
       "      <td>1997</td>\n",
       "      <td>13.2533</td>\n",
       "      <td>0.1862</td>\n",
       "      <td>13.9080</td>\n",
       "      <td>0.1895</td>\n",
       "    </tr>\n",
       "    <tr>\n",
       "      <th>1997</th>\n",
       "      <td>1998</td>\n",
       "      <td>13.3716</td>\n",
       "      <td>0.1774</td>\n",
       "      <td>13.9102</td>\n",
       "      <td>0.1902</td>\n",
       "    </tr>\n",
       "    <tr>\n",
       "      <th>1998</th>\n",
       "      <td>1999</td>\n",
       "      <td>13.3359</td>\n",
       "      <td>0.1866</td>\n",
       "      <td>13.9168</td>\n",
       "      <td>0.1895</td>\n",
       "    </tr>\n",
       "    <tr>\n",
       "      <th>1999</th>\n",
       "      <td>2000</td>\n",
       "      <td>13.2002</td>\n",
       "      <td>0.1902</td>\n",
       "      <td>13.9123</td>\n",
       "      <td>0.1909</td>\n",
       "    </tr>\n",
       "  </tbody>\n",
       "</table>\n",
       "</div>"
      ],
      "text/plain": [
       "      round  val_loss  val_acc  test_loss  test_acc\n",
       "1995   1996   13.3645   0.1862    13.9108    0.1901\n",
       "1996   1997   13.2533   0.1862    13.9080    0.1895\n",
       "1997   1998   13.3716   0.1774    13.9102    0.1902\n",
       "1998   1999   13.3359   0.1866    13.9168    0.1895\n",
       "1999   2000   13.2002   0.1902    13.9123    0.1909"
      ]
     },
     "metadata": {},
     "output_type": "display_data"
    },
    {
     "data": {
      "image/png": "[encoded data removed]",
      "text/plain": [
       "<Figure size 1200x600 with 1 Axes>"
      ]
     },
     "metadata": {},
     "output_type": "display_data"
    },
    {
     "data": {
      "image/png": "[encoded data removed]",
      "text/plain": [
       "<Figure size 1200x600 with 1 Axes>"
      ]
     },
     "metadata": {},
     "output_type": "display_data"
    }
   ],
   "source": [
    "import pandas as pd\n",
    "import matplotlib.pyplot as plt\n",
    "\n",
    "# 1. Load FedAvg results\n",
    "#csv_path = './fedavg_results.csv'\n",
    "df = pd.read_csv(csv_path)\n",
    "\n",
    "# 2. Quick peek at the first/last few entries\n",
    "print(\"First rounds:\")\n",
    "display(df.head(5))\n",
    "print(\"Last rounds:\")\n",
    "display(df.tail(5))\n",
    "\n",
    "# 3. Plot Test Accuracy over Federated Rounds\n",
    "plt.figure(figsize=(12, 6))\n",
    "plt.plot(df['round'], df['test_acc'])\n",
    "plt.xlabel('Federated Round')\n",
    "plt.ylabel('Global Test Accuracy')\n",
    "plt.title('FedAvg on CIFAR-100: Test Accuracy vs. Communication Round')\n",
    "plt.grid(True)\n",
    "plt.tight_layout()\n",
    "plt.show()\n",
    "\n",
    "# 4. (Optional) Smooth curve with rolling average\n",
    "df['smoothed_acc'] = df['test_acc'].rolling(window=50, min_periods=1).mean()\n",
    "plt.figure(figsize=(12, 6))\n",
    "plt.plot(df['round'], df['test_acc'], alpha=0.3, label='Raw')\n",
    "plt.plot(df['round'], df['smoothed_acc'], label='50‐round MA')\n",
    "plt.xlabel('Federated Round')\n",
    "plt.ylabel('Global Test Accuracy')\n",
    "plt.title('Smoothed FedAvg Accuracy Curve')\n",
    "plt.legend()\n",
    "plt.tight_layout()\n",
    "plt.show()\n"
   ]
  },
  {
   "cell_type": "code",
   "execution_count": null,
   "metadata": {
    "colab": {
     "base_uri": "https://localhost:8080/"
    },
    "executionInfo": {
     "elapsed": 15,
     "status": "ok",
     "timestamp": 1754079046131,
     "user": {
      "displayName": "Mattia Cappellino",
      "userId": "05271634366428679167"
     },
     "user_tz": -120
    },
    "id": "00NdM_dr6vim",
    "outputId": "b634a6e4-d528-483b-ed73-e8ae96365178"
   },
   "outputs": [
    {
     "name": "stdout",
     "output_type": "stream",
     "text": [
      "[Checkpoint] Cleared 3 files from /content/drive/MyDrive/fl_checkpoints\n"
     ]
    }
   ],
   "source": [
    "#ATTENZIONE!!!!\n",
    "#OCCHIO A RUNNAREEEE\n",
    "\n",
    "\n",
    "\n",
    "#utility function that deletes all checkpoints from the checkpoint folder\n",
    "\n",
    "def clear_checkpoints(ckpt_dir):\n",
    "    \"\"\"\n",
    "    Remove all checkpoint files in the specified directory.\n",
    "    \"\"\"\n",
    "    removed = 0\n",
    "    for fname in os.listdir(ckpt_dir):\n",
    "        path = os.path.join(ckpt_dir, fname)\n",
    "        if os.path.isfile(path):\n",
    "            os.remove(path)\n",
    "            removed += 1\n",
    "    print(f\"[Checkpoint] Cleared {removed} files from {ckpt_dir}\")\n",
    "\n",
    "\n",
    "#clear_checkpoints(CKPT_DIR)\n"
   ]
  },
  {
   "cell_type": "code",
   "execution_count": null,
   "metadata": {
    "executionInfo": {
     "elapsed": 74878,
     "status": "aborted",
     "timestamp": 1754078525610,
     "user": {
      "displayName": "Mattia Cappellino",
      "userId": "05271634366428679167"
     },
     "user_tz": -120
    },
    "id": "Owzk--gFdWwB"
   },
   "outputs": [],
   "source": []
  },
  {
   "cell_type": "code",
   "execution_count": null,
   "metadata": {
    "executionInfo": {
     "elapsed": 74880,
     "status": "aborted",
     "timestamp": 1754078525612,
     "user": {
      "displayName": "Mattia Cappellino",
      "userId": "05271634366428679167"
     },
     "user_tz": -120
    },
    "id": "Q5IgnGhEdWw1"
   },
   "outputs": [],
   "source": []
  },
  {
   "cell_type": "code",
   "execution_count": null,
   "metadata": {
    "executionInfo": {
     "elapsed": 74890,
     "status": "aborted",
     "timestamp": 1754078525623,
     "user": {
      "displayName": "Mattia Cappellino",
      "userId": "05271634366428679167"
     },
     "user_tz": -120
    },
    "id": "E1O3ub6UdWxr"
   },
   "outputs": [],
   "source": []
  }
 ],
 "metadata": {
  "accelerator": "GPU",
  "colab": {
   "gpuType": "T4",
   "provenance": [
    {
     "file_id": "1TE0jsvf4PTX7tN0Ngz_0NZfm8NoGgDgJ",
     "timestamp": 1753224018851
    },
    {
     "file_id": "1KYtrSgZWEprGxEteMTSH-NNBpr56IO0Y",
     "timestamp": 1753205697977
    }
   ]
  },
  "kernelspec": {
   "display_name": "advanced-machine-learning-labs-0TJYTEqJ-py3.12",
   "language": "python",
   "name": "python3"
  },
  "language_info": {
   "codemirror_mode": {
    "name": "ipython",
    "version": 3
   },
   "file_extension": ".py",
   "mimetype": "text/x-python",
   "name": "python",
   "nbconvert_exporter": "python",
   "pygments_lexer": "ipython3",
   "version": "3.12.3"
  }
 },
 "nbformat": 4,
 "nbformat_minor": 0
}
